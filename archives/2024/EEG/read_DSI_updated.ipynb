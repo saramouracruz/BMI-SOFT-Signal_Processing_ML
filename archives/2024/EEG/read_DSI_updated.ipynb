{
 "cells": [
  {
   "cell_type": "code",
   "execution_count": null,
   "id": "fc8790d5",
   "metadata": {},
   "outputs": [],
   "source": [
    "import mne\n",
    "import numpy as np\n",
    "import pandas as pd\n",
    "import seaborn as sns\n",
    "import plotly.express as plx\n",
    "from mne.datasets import misc\n",
    "import mne_connectivity\n",
    "import pyxdf\n",
    "import matplotlib.pyplot as plt"
   ]
  },
  {
   "cell_type": "code",
   "execution_count": null,
   "id": "e117f20a",
   "metadata": {},
   "outputs": [],
   "source": [
    "channels_to_use = [\n",
    "    # prefrontal\n",
    "    'Fp1',\n",
    "    'Fp2',\n",
    "    # frontal\n",
    "    'F7',\n",
    "    'F3',\n",
    "    'Fz',\n",
    "    'F4',\n",
    "    'F8',\n",
    "    # central and temporal\n",
    "    'T3',\n",
    "    'C3',\n",
    "    'Cz',\n",
    "    'C4',\n",
    "    'T4',\n",
    "    # parietal\n",
    "    'T5',\n",
    "    'P3',\n",
    "    'Pz',\n",
    "    'P4',\n",
    "    'T6',\n",
    "    # occipital\n",
    "    'O1',\n",
    "    'O2',\n",
    "]"
   ]
  },
  {
   "cell_type": "code",
   "execution_count": null,
   "id": "236bffca",
   "metadata": {},
   "outputs": [],
   "source": [
    "# example file path\n",
    "fname = \"/Users/saracruz/Desktop/N-Pulse/BCI/DSI/data/sub-TEST1/ses-S001/eeg/sub-TEST1_ses-S001_task-Default_run-001_eeg.xdf\"\n",
    "streams, header = pyxdf.load_xdf(fname)\n",
    "data = streams[1][\"time_series\"].T\n",
    "%visualize data\n",
    "data "
   ]
  },
  {
   "cell_type": "code",
   "execution_count": null,
   "id": "992160a9",
   "metadata": {},
   "outputs": [],
   "source": [
    "# Find the index of the stimulus and EEG streams\n",
    "\n",
    "eeg_index = []\n",
    "for stream in range(len(streams)):\n",
    "    if streams[stream][\"info\"][\"name\"][0] == \"EEG-stream\":\n",
    "        eeg_index.append(stream)\n",
    "\n",
    "# The EEG channels are assumed to be constant across streams \n",
    "# because this is built into the DSI-24 system\n",
    "eeg_index1 = eeg_index[0]\n",
    "ch_names = []\n",
    "for i in range(0, len(streams[eeg_index1][\"info\"][\"desc\"][0][\"channels\"][0][\"channel\"])):\n",
    "    ch_names.append(streams[eeg_index1][\"info\"][\"desc\"][0][\"channels\"][0][\"channel\"][i][\"label\"][0])\n",
    "\n",
    "# Create the info object\n",
    "samp_frq = float(streams[eeg_index1][\"info\"][\"nominal_srate\"][0])\n",
    "ch_types = ['eeg'] * len(ch_names)\n",
    "\n",
    "# Find the stimulus stream in streams\n",
    "stimulus_stream = None\n",
    "for stream in range(len(streams)):\n",
    "    if streams[stream][\"info\"][\"name\"][0] == \"stimulus_stream\":  # Match name\n",
    "        stimulus_stream = streams[stream]\n",
    "        break\n",
    "\n",
    "if stimulus_stream is None:\n",
    "    raise ValueError(\"No 'stimulus_stream' found in the dataset.\")\n",
    "\n",
    "# Extract stimulus timestamps and event markers\n",
    "first_timestamp =float(stimulus_stream[\"footer\"][\"info\"][\"first_timestamp\"][0])\n",
    "\n",
    "event_timestamps = stimulus_stream[\"time_stamps\"] \n",
    "eeg_timestamps = streams[eeg_index1][\"time_stamps\"]\n",
    "event_index = np.searchsorted(eeg_timestamps, event_timestamps)\n",
    "\n",
    "event_dict = stimulus_stream[\"time_series\"].flatten()  # Convert to 1D array\n",
    "\n",
    "# format the events array to correspond to what MNE expects\n",
    "events = np.column_stack([\n",
    "    (event_index).astype(int),\n",
    "    np.zeros(len(event_timestamps), dtype=int),\n",
    "    event_dict\n",
    "])\n",
    "\n",
    "info = mne.create_info(ch_names, sfreq = samp_frq, ch_types= ch_types, verbose=None)"
   ]
  },
  {
   "cell_type": "code",
   "execution_count": null,
   "id": "936deb91",
   "metadata": {},
   "outputs": [],
   "source": [
    "#slightly different because they don't start at the same timepoint\n",
    "print(event_timestamps)\n",
    "print(eeg_timestamps[event_index])\n",
    "print(event_index)"
   ]
  },
  {
   "cell_type": "code",
   "execution_count": null,
   "id": "98576a44",
   "metadata": {},
   "outputs": [],
   "source": [
    "# # uV -> V\n",
    "data *= 1e-6  "
   ]
  },
  {
   "cell_type": "code",
   "execution_count": null,
   "id": "861111bd",
   "metadata": {},
   "outputs": [],
   "source": [
    "raw = mne.io.RawArray(data, info)\n",
    "raw.plot(scalings=\"auto\", duration=1, start=14)\n",
    "#this should be the correct way to do it but since our data is the noisy one so far, i will leave it commented\n",
    "#raw.plot(scalings=dict(eeg=100e-6))\n",
    "\n",
    "# Fs\n",
    "fs = raw.info['sfreq']\n",
    "print(f'Frequency of Sampling: {fs} Hz')\n",
    "# Length in seconds\n",
    "print(f'Duration: {len(raw) / fs} seconds')"
   ]
  },
  {
   "cell_type": "code",
   "execution_count": null,
   "id": "4f8648e6",
   "metadata": {},
   "outputs": [],
   "source": [
    "sample_1020 = raw.copy().pick_channels(channels_to_use)\n",
    "assert len(channels_to_use) == len(sample_1020.ch_names)\n",
    "\n",
    "ch_map = {ch.lower(): ch for ch in sample_1020.ch_names}\n",
    "ten_twenty_montage = mne.channels.make_standard_montage('standard_1020')\n",
    "len(ten_twenty_montage.ch_names)\n",
    "ten_twenty_montage.ch_names = [ch_map[ch.lower()] if ch.lower() in ch_map else ch \n",
    "                               for ch in ten_twenty_montage.ch_names]\n",
    "sample_1020.set_montage(ten_twenty_montage)"
   ]
  },
  {
   "cell_type": "code",
   "execution_count": null,
   "id": "f5dcb0bf",
   "metadata": {},
   "outputs": [],
   "source": [
    "sample_1020.plot_sensors(show_names=True)\n",
    "sample_1020.compute_psd().plot()\n"
   ]
  },
  {
   "cell_type": "code",
   "execution_count": null,
   "id": "71e70490",
   "metadata": {},
   "outputs": [],
   "source": [
    "# components < 1Hz are not informative and above 50Hz are also not\n",
    "# !double check this information - papers!\n",
    "sample_1020.filter(l_freq=1, h_freq=50, method='iir')\n",
    "sample_1020.notch_filter(\n",
    "    freqs=[50],               # or [50, 100] for harmonics\n",
    "    notch_widths=1,           # smaller notch width (default can be 2)\n",
    "    trans_bandwidth=1,        # narrower transition band\n",
    "    filter_length='auto',     \n",
    "    phase='zero-double',      # zero-phase filtering\n",
    "    fir_design='firwin'\n",
    ")\n",
    "sample_1020.compute_psd().plot()"
   ]
  },
  {
   "cell_type": "code",
   "execution_count": null,
   "id": "2305df22",
   "metadata": {},
   "outputs": [],
   "source": [
    "# EEG signals scaled to 100 microvolts for better readability\n",
    "sample_1020.plot(n_channels=8, duration=20, scalings=dict(eeg=100e-6))"
   ]
  },
  {
   "cell_type": "code",
   "execution_count": null,
   "id": "c92d7609",
   "metadata": {},
   "outputs": [],
   "source": [
    "ica = mne.preprocessing.ICA(n_components=10, random_state=42)\n",
    "ica.fit(sample_1020)"
   ]
  },
  {
   "cell_type": "code",
   "execution_count": null,
   "id": "af1df48c",
   "metadata": {},
   "outputs": [],
   "source": [
    "ica.plot_components()"
   ]
  },
  {
   "cell_type": "code",
   "execution_count": null,
   "id": "cf024422",
   "metadata": {},
   "outputs": [],
   "source": [
    "# events: #  indicates the time point in the continuous data where an event of interest occurred.\n",
    "#  EEG data segments (epochs) that are time-locked to\n",
    "#  specific events. Each epoch corresponds to a specific \n",
    "#  time window around an event of interest, such as a stimulus\n",
    "#  presentation or a response.\n",
    "\n",
    "# tmin= -0.5 --> each epoch starts 0.5 seconds before the event\n",
    "# tmax= 0.8 --> each epoch ends 1.5 seconds after the event\n",
    "\n",
    "# define events dictionary example\n",
    "event_id = {\n",
    "    'left': 1,\n",
    "    'right': 2,\n",
    "    'foot': 3\n",
    "}\n",
    "\n",
    "# here maybe we need to adapt the lenght of the stimuli \n",
    "epochs = mne.Epochs(sample_1020, events, event_id = event_id, tmin=-0.5, tmax=0.8, preload=True,     on_missing='ignore'  # Ignores missing events instead of raising an error\n",
    ")\n",
    "\n",
    "# different approach that is done by the campus biotech uses a strategy \n",
    "# called time-shifted averaging that helps extract more stable features from EEG\n",
    "\n",
    "epochs_time_shift = mne.Epochs(sample_1020, events, tmin=0.5, tmax=1.5, preload=True, baseline=None)   "
   ]
  },
  {
   "cell_type": "code",
   "execution_count": null,
   "id": "50f97e21",
   "metadata": {},
   "outputs": [],
   "source": [
    "# converts to dataframe and counts the number of events per ID\n",
    "pd.DataFrame(epochs.events, columns=['_', '__', 'event_id'])['event_id'].value_counts()"
   ]
  },
  {
   "cell_type": "code",
   "execution_count": null,
   "id": "49e0bbaa",
   "metadata": {},
   "outputs": [],
   "source": [
    "sample_1020.to_data_frame().shape\n",
    "df = epochs.to_data_frame()\n",
    "df.head(3).iloc[:, :10]"
   ]
  },
  {
   "cell_type": "code",
   "execution_count": null,
   "id": "c328a469",
   "metadata": {},
   "outputs": [],
   "source": [
    "#try my approach :this is usually done but threhold = 300e-6 instead of \n",
    "# 600e-6 as try previous proposed\n",
    "\n",
    "# Calculate the mean and standard deviation of the EEG signal\n",
    "data = epochs.get_data()\n",
    "mean = np.mean(data)\n",
    "std = np.std(data)\n",
    "\n",
    "# Define a custom threshold based on the mean and standard deviation\n",
    "threshold = (mean + 6 * std)\n",
    "print(f'Threshold: {threshold}')\n",
    "\n",
    "reject_criteria = {'eeg': threshold}\n",
    "\n",
    "# or we can define a fixed thereshold per epoch "
   ]
  },
  {
   "cell_type": "code",
   "execution_count": null,
   "id": "3a044c41",
   "metadata": {},
   "outputs": [],
   "source": [
    "epochs = mne.Epochs(sample_1020, events,  tmin=-0.5, tmax=0.8, reject=reject_criteria, preload=True, baseline=(-.1, 0))"
   ]
  },
  {
   "cell_type": "code",
   "execution_count": null,
   "id": "a381bfe3",
   "metadata": {},
   "outputs": [],
   "source": [
    "left = epochs['left'].average()\n",
    "#right = epochs['right'].average()\n",
    "foot = epochs['foot'].average()"
   ]
  },
  {
   "cell_type": "code",
   "execution_count": null,
   "id": "e69bd066",
   "metadata": {},
   "outputs": [],
   "source": [
    "left.plot(spatial_colors=True);\n",
    "foot.plot(spatial_colors=True);\n"
   ]
  }
 ],
 "metadata": {
  "language_info": {
   "name": "python"
  }
 },
 "nbformat": 4,
 "nbformat_minor": 5
}
